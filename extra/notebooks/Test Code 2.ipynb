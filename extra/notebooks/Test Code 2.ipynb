{
 "cells": [
  {
   "cell_type": "code",
   "execution_count": 1,
   "metadata": {},
   "outputs": [],
   "source": [
    "import cv2\n",
    "import numpy as np\n",
    " \n",
    "cap = cv2.VideoCapture('videoplayback.mp4')\n",
    "\n",
    "fgbg = cv2.createBackgroundSubtractorMOG2(\n",
    "    history=10,\n",
    "    varThreshold=2,\n",
    "    detectShadows=False)\n",
    "\n",
    "# Read the video\n",
    "while(cap.isOpened()):\n",
    "  # Capture frame-by-frame\n",
    "  ret, frame = cap.read()\n",
    "  if ret == True:\n",
    " \n",
    "    # Converting the image to grayscale.\n",
    "    gray = cv2.cvtColor(frame, cv2.COLOR_BGR2GRAY)\n",
    "\n",
    "    # Extract the foreground\n",
    "    edges_foreground = cv2.bilateralFilter(gray, 9, 75, 75)\n",
    "    foreground = fgbg.apply(edges_foreground)\n",
    "    \n",
    "    # Smooth out to get the moving area\n",
    "    kernel = np.ones((50,50),np.uint8)\n",
    "    foreground = cv2.morphologyEx(foreground, cv2.MORPH_CLOSE, kernel)\n",
    "\n",
    "    # Applying static edge extraction\n",
    "    edges_foreground = cv2.bilateralFilter(gray, 7, 75, 75)\n",
    "    edges_filtered = cv2.Canny(edges_foreground, 60, 120)\n",
    "\n",
    "    # Crop off the edges out of the moving area\n",
    "    cropped = (foreground // 255) * edges_filtered\n",
    "\n",
    "    cv2.imshow('test', edges_foreground)\n",
    "    if cv2.waitKey(25) & 0xFF == ord('q'):\n",
    "      break\n",
    "    \n",
    "  else: \n",
    "    break\n",
    "cap.release()\n",
    "cv2.destroyAllWindows()"
   ]
  },
  {
   "cell_type": "code",
   "execution_count": null,
   "metadata": {},
   "outputs": [],
   "source": []
  }
 ],
 "metadata": {
  "kernelspec": {
   "display_name": "Python 2",
   "language": "python",
   "name": "python2"
  },
  "language_info": {
   "codemirror_mode": {
    "name": "ipython",
    "version": 2
   },
   "file_extension": ".py",
   "mimetype": "text/x-python",
   "name": "python",
   "nbconvert_exporter": "python",
   "pygments_lexer": "ipython2",
   "version": "2.7.15"
  }
 },
 "nbformat": 4,
 "nbformat_minor": 2
}
